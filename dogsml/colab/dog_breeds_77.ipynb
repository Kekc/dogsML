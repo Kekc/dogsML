{
  "nbformat": 4,
  "nbformat_minor": 0,
  "metadata": {
    "colab": {
      "name": "dog_breeds.ipynb",
      "provenance": [],
      "collapsed_sections": [],
      "authorship_tag": "ABX9TyNnTuT+CfRlQhYkiiFlk+By",
      "include_colab_link": true
    },
    "kernelspec": {
      "name": "python3",
      "display_name": "Python 3"
    },
    "language_info": {
      "name": "python"
    },
    "accelerator": "GPU"
  },
  "cells": [
    {
      "cell_type": "markdown",
      "metadata": {
        "id": "view-in-github",
        "colab_type": "text"
      },
      "source": [
        "<a href=\"https://colab.research.google.com/github/Kekc/dogsML/blob/main/dogsml/colab/dog_breeds_77.ipynb\" target=\"_parent\"><img src=\"https://colab.research.google.com/assets/colab-badge.svg\" alt=\"Open In Colab\"/></a>"
      ]
    },
    {
      "cell_type": "code",
      "execution_count": null,
      "metadata": {
        "colab": {
          "base_uri": "https://localhost:8080/"
        },
        "id": "XNhJPuO3Nz_K",
        "outputId": "feef48a7-7368-4f81-fab4-18a640f2049a"
      },
      "outputs": [
        {
          "output_type": "stream",
          "name": "stdout",
          "text": [
            "--2022-08-02 14:18:37--  http://vision.stanford.edu/aditya86/ImageNetDogs/images.tar\n",
            "Resolving vision.stanford.edu (vision.stanford.edu)... 171.64.68.10\n",
            "Connecting to vision.stanford.edu (vision.stanford.edu)|171.64.68.10|:80... connected.\n",
            "HTTP request sent, awaiting response... 200 OK\n",
            "Length: 793579520 (757M) [application/x-tar]\n",
            "Saving to: ‘images.tar’\n",
            "\n",
            "images.tar          100%[===================>] 756.82M  50.6MB/s    in 9.9s    \n",
            "\n",
            "2022-08-02 14:18:47 (76.8 MB/s) - ‘images.tar’ saved [793579520/793579520]\n",
            "\n"
          ]
        }
      ],
      "source": [
        "!wget http://vision.stanford.edu/aditya86/ImageNetDogs/images.tar"
      ]
    },
    {
      "cell_type": "code",
      "source": [
        "import tarfile\n",
        "tar_file = tarfile.open(\"./images.tar\", 'r')\n",
        "tar_file.extractall(\"tmp/\")\n",
        "tar_file.close()\n",
        "\n"
      ],
      "metadata": {
        "id": "mYk0QK0TN3Gr"
      },
      "execution_count": null,
      "outputs": []
    },
    {
      "cell_type": "code",
      "source": [
        "import os\n",
        "images_path = \"tmp/Images\"\n",
        "\n",
        "for item in os.listdir(images_path):\n",
        "  new_item = item[item.find(\"-\")+1:]\n",
        "  new_item = new_item.capitalize()\n",
        "  os.rename(os.path.join(images_path, item), os.path.join(images_path, new_item))\n"
      ],
      "metadata": {
        "id": "rLfBE263PgLg"
      },
      "execution_count": null,
      "outputs": []
    },
    {
      "cell_type": "code",
      "source": [
        "import os\n",
        "os.listdir(\"tmp/Images\")"
      ],
      "metadata": {
        "colab": {
          "base_uri": "https://localhost:8080/"
        },
        "id": "Vm6kqCrSPkqq",
        "outputId": "edfa79b6-94f1-432e-bfb9-7fe96681fe66"
      },
      "execution_count": null,
      "outputs": [
        {
          "output_type": "execute_result",
          "data": {
            "text/plain": [
              "['Schipperke',\n",
              " 'Lhasa',\n",
              " 'Bedlington_terrier',\n",
              " 'Saint_bernard',\n",
              " 'Giant_schnauzer',\n",
              " 'Maltese_dog',\n",
              " 'Bouvier_des_flandres',\n",
              " 'Papillon',\n",
              " 'Welsh_springer_spaniel',\n",
              " 'German_shepherd',\n",
              " 'Silky_terrier',\n",
              " 'Miniature_pinscher',\n",
              " 'Shetland_sheepdog',\n",
              " 'Beagle',\n",
              " 'Lakeland_terrier',\n",
              " 'Great_pyrenees',\n",
              " 'Irish_setter',\n",
              " 'Blenheim_spaniel',\n",
              " 'Cardigan',\n",
              " 'Black-and-tan_coonhound',\n",
              " 'Kuvasz',\n",
              " 'African_hunting_dog',\n",
              " 'Walker_hound',\n",
              " 'Redbone',\n",
              " 'Chesapeake_bay_retriever',\n",
              " 'Affenpinscher',\n",
              " 'Sussex_spaniel',\n",
              " 'Irish_wolfhound',\n",
              " 'Scottish_deerhound',\n",
              " 'English_foxhound',\n",
              " 'Bluetick',\n",
              " 'Basenji',\n",
              " 'Airedale',\n",
              " 'Italian_greyhound',\n",
              " 'Basset',\n",
              " 'Miniature_poodle',\n",
              " 'Malinois',\n",
              " 'Groenendael',\n",
              " 'Norwegian_elkhound',\n",
              " 'Border_terrier',\n",
              " 'Briard',\n",
              " 'Flat-coated_retriever',\n",
              " 'Norwich_terrier',\n",
              " 'Kerry_blue_terrier',\n",
              " 'Shih-tzu',\n",
              " 'Wire-haired_fox_terrier',\n",
              " 'Rottweiler',\n",
              " 'Entlebucher',\n",
              " 'Mexican_hairless',\n",
              " 'Borzoi',\n",
              " 'Cocker_spaniel',\n",
              " 'Tibetan_mastiff',\n",
              " 'Gordon_setter',\n",
              " 'English_springer',\n",
              " 'Golden_retriever',\n",
              " 'Standard_schnauzer',\n",
              " 'Pug',\n",
              " 'Tibetan_terrier',\n",
              " 'Whippet',\n",
              " 'Dandie_dinmont',\n",
              " 'Yorkshire_terrier',\n",
              " 'German_short-haired_pointer',\n",
              " 'Eskimo_dog',\n",
              " 'Brittany_spaniel',\n",
              " 'Border_collie',\n",
              " 'Pomeranian',\n",
              " 'American_staffordshire_terrier',\n",
              " 'Norfolk_terrier',\n",
              " 'Collie',\n",
              " 'Old_english_sheepdog',\n",
              " 'Brabancon_griffon',\n",
              " 'Sealyham_terrier',\n",
              " 'Greater_swiss_mountain_dog',\n",
              " 'Otterhound',\n",
              " 'Staffordshire_bullterrier',\n",
              " 'Appenzeller',\n",
              " 'Newfoundland',\n",
              " 'Cairn',\n",
              " 'Miniature_schnauzer',\n",
              " 'Great_dane',\n",
              " 'Chow',\n",
              " 'Rhodesian_ridgeback',\n",
              " 'Doberman',\n",
              " 'Dingo',\n",
              " 'Pembroke',\n",
              " 'Clumber',\n",
              " 'Kelpie',\n",
              " 'Bull_mastiff',\n",
              " 'Keeshond',\n",
              " 'Weimaraner',\n",
              " 'Dhole',\n",
              " 'Chihuahua',\n",
              " 'Scotch_terrier',\n",
              " 'Toy_poodle',\n",
              " 'Siberian_husky',\n",
              " 'Toy_terrier',\n",
              " 'Ibizan_hound',\n",
              " 'Pekinese',\n",
              " 'Komondor',\n",
              " 'Saluki',\n",
              " 'Malamute',\n",
              " 'Irish_water_spaniel',\n",
              " 'Labrador_retriever',\n",
              " 'Bloodhound',\n",
              " 'Standard_poodle',\n",
              " 'Soft-coated_wheaten_terrier',\n",
              " 'English_setter',\n",
              " 'Samoyed',\n",
              " 'Australian_terrier',\n",
              " 'Boston_bull',\n",
              " 'Afghan_hound',\n",
              " 'Japanese_spaniel',\n",
              " 'French_bulldog',\n",
              " 'West_highland_white_terrier',\n",
              " 'Vizsla',\n",
              " 'Bernese_mountain_dog',\n",
              " 'Curly-coated_retriever',\n",
              " 'Boxer',\n",
              " 'Leonberg',\n",
              " 'Irish_terrier']"
            ]
          },
          "metadata": {},
          "execution_count": 4
        }
      ]
    },
    {
      "cell_type": "code",
      "source": [
        "import tensorflow as tf\n",
        "import tensorflow.keras.layers as tfl\n",
        "from tensorflow.keras.initializers import glorot_uniform\n",
        "from tensorflow.keras.optimizers import Adam"
      ],
      "metadata": {
        "id": "wyieX3x3P7Ii"
      },
      "execution_count": null,
      "outputs": []
    },
    {
      "cell_type": "code",
      "source": [
        "img_height = 224\n",
        "img_width = 224\n",
        "batch_size = 32\n",
        "validation_split = 0.2\n",
        "seed = 123\n",
        "num_epochs = 1\n",
        "data_dir = \"tmp/Images\""
      ],
      "metadata": {
        "id": "jUP-ksmURvXR"
      },
      "execution_count": null,
      "outputs": []
    },
    {
      "cell_type": "code",
      "source": [
        "train_ds = tf.keras.utils.image_dataset_from_directory(\n",
        "    data_dir,\n",
        "    validation_split=validation_split,\n",
        "    subset=\"training\",\n",
        "    seed=seed,\n",
        "    image_size=(img_height, img_width),\n",
        "    batch_size=batch_size,\n",
        ")\n",
        "validation_ds = tf.keras.utils.image_dataset_from_directory(\n",
        "    data_dir,\n",
        "    validation_split=validation_split,\n",
        "    subset=\"validation\",\n",
        "    seed=seed,\n",
        "    image_size=(img_height, img_width),\n",
        "    batch_size=batch_size,\n",
        ")"
      ],
      "metadata": {
        "colab": {
          "base_uri": "https://localhost:8080/"
        },
        "id": "jwICmJ2ER-oN",
        "outputId": "3fcb834f-4ea5-4a7f-aacf-a7f670decb9e"
      },
      "execution_count": null,
      "outputs": [
        {
          "output_type": "stream",
          "name": "stdout",
          "text": [
            "Found 20580 files belonging to 120 classes.\n",
            "Using 16464 files for training.\n",
            "Found 20580 files belonging to 120 classes.\n",
            "Using 4116 files for validation.\n"
          ]
        }
      ]
    },
    {
      "cell_type": "code",
      "source": [
        "class_names = train_ds.class_names\n",
        "\n",
        "AUTOTUNE = tf.data.experimental.AUTOTUNE\n",
        "train_ds = train_ds.prefetch(buffer_size=AUTOTUNE)"
      ],
      "metadata": {
        "id": "Dxyctj8LSKYh"
      },
      "execution_count": null,
      "outputs": []
    },
    {
      "cell_type": "code",
      "source": [
        "input_shape = (img_height, img_width, 3)\n",
        "base_model = tf.keras.applications.MobileNetV3Large(\n",
        "    input_shape=input_shape,\n",
        "    include_top=False,\n",
        "    weights=\"imagenet\",\n",
        ")\n",
        "\n",
        "data_augmentation = tf.keras.Sequential([\n",
        "    tfl.RandomFlip(\"horizontal\"),\n",
        "    tfl.RandomRotation(0.2),\n",
        "    tfl.RandomContrast(factor=(0, 0.2)),\n",
        "    tfl.RandomHeight(factor=(0, 0.3)),\n",
        "    tfl.RandomWidth(factor=(0, 0.3)),\n",
        "    tfl.RandomTranslation(\n",
        "        height_factor=0.3,\n",
        "        width_factor=0.3,\n",
        "        fill_mode=\"nearest\",\n",
        "    ),\n",
        "    tfl.RandomZoom(\n",
        "        height_factor=(0, 0.3),\n",
        "        width_factor=(0, 0.3),\n",
        "        fill_mode=\"nearest\",\n",
        "    ),\n",
        "])\n",
        "\n",
        "base_model.trainable = False\n",
        "inputs = tf.keras.Input(shape=input_shape)\n",
        "\n",
        "x_data = data_augmentation(inputs)\n",
        "# x_data = inputs\n",
        "# x_data = tf.keras.applications.mobilenet_v2.preprocess_input(x_data)\n",
        "\n",
        "x_data = base_model(x_data, training=False)\n",
        "x_data = tfl.GlobalAveragePooling2D()(x_data)\n",
        "# x_data = tfl.Dropout(0.2)(x_data)\n",
        "outputs = tfl.Dense(\n",
        "    len(class_names),\n",
        "    activation=\"softmax\",\n",
        "    kernel_initializer=glorot_uniform(seed=0)\n",
        ")(x_data)\n",
        "\n",
        "transfer_model = tf.keras.Model(inputs, outputs)"
      ],
      "metadata": {
        "id": "vK-PgZO6SU3J"
      },
      "execution_count": null,
      "outputs": []
    },
    {
      "cell_type": "code",
      "source": [
        "base_learning_rate = 1 * 10**-3\n",
        "transfer_model.compile(\n",
        "    optimizer=tf.keras.optimizers.Adam(learning_rate=base_learning_rate),\n",
        "    loss=\"sparse_categorical_crossentropy\",\n",
        "    metrics=[\"accuracy\"],\n",
        ")"
      ],
      "metadata": {
        "id": "D46fl8kQSeQ-"
      },
      "execution_count": null,
      "outputs": []
    },
    {
      "cell_type": "code",
      "source": [
        "num_epochs = 4\n",
        "history_top = transfer_model.fit(\n",
        "    train_ds,\n",
        "    validation_data=validation_ds,\n",
        "    epochs=num_epochs,\n",
        ")\n",
        "\n",
        "base_model = transfer_model.layers[2]\n",
        "base_model.trainable = True\n",
        "fine_tune_at = 210\n",
        "for layer in base_model.layers[:fine_tune_at]:\n",
        "    layer.trainable = False\n",
        "\n",
        "transfer_model.compile(\n",
        "    optimizer=Adam(learning_rate=base_learning_rate/10),\n",
        "    loss=\"sparse_categorical_crossentropy\",\n",
        "    metrics=[\"accuracy\"],\n",
        ")\n",
        "\n",
        "history_base = transfer_model.fit(\n",
        "    train_ds,\n",
        "    validation_data=validation_ds,\n",
        "    epochs=num_epochs * 2,\n",
        "    initial_epoch=history_top.epoch[-1],\n",
        ")"
      ],
      "metadata": {
        "colab": {
          "base_uri": "https://localhost:8080/"
        },
        "id": "N0L70D5-SseJ",
        "outputId": "3f525ed3-a5df-4959-d3cd-cf307839960c"
      },
      "execution_count": null,
      "outputs": [
        {
          "output_type": "stream",
          "name": "stdout",
          "text": [
            "Epoch 1/4\n",
            "515/515 [==============================] - 47s 83ms/step - loss: 2.5046 - accuracy: 0.3875 - val_loss: 0.9199 - val_accuracy: 0.7174\n",
            "Epoch 2/4\n",
            "515/515 [==============================] - 42s 81ms/step - loss: 1.5851 - accuracy: 0.5622 - val_loss: 0.8048 - val_accuracy: 0.7534\n",
            "Epoch 3/4\n",
            "515/515 [==============================] - 41s 79ms/step - loss: 1.4288 - accuracy: 0.6050 - val_loss: 0.7673 - val_accuracy: 0.7617\n",
            "Epoch 4/4\n",
            "515/515 [==============================] - 41s 79ms/step - loss: 1.3122 - accuracy: 0.6262 - val_loss: 0.7473 - val_accuracy: 0.7697\n",
            "Epoch 4/8\n",
            "515/515 [==============================] - 52s 93ms/step - loss: 1.0250 - accuracy: 0.7036 - val_loss: 0.7224 - val_accuracy: 0.7792\n",
            "Epoch 5/8\n",
            "515/515 [==============================] - 47s 91ms/step - loss: 0.9091 - accuracy: 0.7304 - val_loss: 0.7359 - val_accuracy: 0.7707\n",
            "Epoch 6/8\n",
            "515/515 [==============================] - 48s 92ms/step - loss: 0.8344 - accuracy: 0.7509 - val_loss: 0.7867 - val_accuracy: 0.7694\n",
            "Epoch 7/8\n",
            "515/515 [==============================] - 47s 90ms/step - loss: 0.7745 - accuracy: 0.7644 - val_loss: 0.7756 - val_accuracy: 0.7716\n",
            "Epoch 8/8\n",
            "515/515 [==============================] - 48s 92ms/step - loss: 0.7031 - accuracy: 0.7880 - val_loss: 0.8133 - val_accuracy: 0.7721\n"
          ]
        }
      ]
    },
    {
      "cell_type": "code",
      "source": [
        "transfer_model.save(\"dog_breed_colab.h5\", save_format=\"h5\")\n"
      ],
      "metadata": {
        "id": "daklWJNHbPLF"
      },
      "execution_count": null,
      "outputs": []
    },
    {
      "cell_type": "code",
      "source": [
        ""
      ],
      "metadata": {
        "id": "91x6-gacq016"
      },
      "execution_count": null,
      "outputs": []
    },
    {
      "cell_type": "markdown",
      "source": [
        "# New Section"
      ],
      "metadata": {
        "id": "_jnl6OY8rM15"
      }
    }
  ]
}