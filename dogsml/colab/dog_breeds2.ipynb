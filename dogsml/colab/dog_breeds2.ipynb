{
  "nbformat": 4,
  "nbformat_minor": 0,
  "metadata": {
    "colab": {
      "name": "dog_breeds.ipynb",
      "provenance": [],
      "collapsed_sections": [],
      "authorship_tag": "ABX9TyOGzUI1nDj7HeiDmvgO8lbA",
      "include_colab_link": true
    },
    "kernelspec": {
      "name": "python3",
      "display_name": "Python 3"
    },
    "language_info": {
      "name": "python"
    },
    "accelerator": "GPU"
  },
  "cells": [
    {
      "cell_type": "markdown",
      "metadata": {
        "id": "view-in-github",
        "colab_type": "text"
      },
      "source": [
        "<a href=\"https://colab.research.google.com/github/Kekc/dogsML/blob/main/dogsml/colab/dog_breeds2.ipynb\" target=\"_parent\"><img src=\"https://colab.research.google.com/assets/colab-badge.svg\" alt=\"Open In Colab\"/></a>"
      ]
    },
    {
      "cell_type": "code",
      "execution_count": 1,
      "metadata": {
        "colab": {
          "base_uri": "https://localhost:8080/"
        },
        "id": "XNhJPuO3Nz_K",
        "outputId": "9cc95cb1-45ba-478f-b837-6eacf4a4450c"
      },
      "outputs": [
        {
          "output_type": "stream",
          "name": "stdout",
          "text": [
            "--2022-07-17 22:32:25--  http://vision.stanford.edu/aditya86/ImageNetDogs/images.tar\n",
            "Resolving vision.stanford.edu (vision.stanford.edu)... 171.64.68.10\n",
            "Connecting to vision.stanford.edu (vision.stanford.edu)|171.64.68.10|:80... connected.\n",
            "HTTP request sent, awaiting response... 200 OK\n",
            "Length: 793579520 (757M) [application/x-tar]\n",
            "Saving to: ‘images.tar’\n",
            "\n",
            "images.tar          100%[===================>] 756.82M  15.8MB/s    in 62s     \n",
            "\n",
            "2022-07-17 22:33:27 (12.3 MB/s) - ‘images.tar’ saved [793579520/793579520]\n",
            "\n"
          ]
        }
      ],
      "source": [
        "!wget http://vision.stanford.edu/aditya86/ImageNetDogs/images.tar"
      ]
    },
    {
      "cell_type": "code",
      "source": [
        "import tarfile\n",
        "tar_file = tarfile.open(\"./images.tar\", 'r')\n",
        "tar_file.extractall(\"tmp/\")\n",
        "tar_file.close()\n",
        "\n"
      ],
      "metadata": {
        "id": "mYk0QK0TN3Gr"
      },
      "execution_count": 2,
      "outputs": []
    },
    {
      "cell_type": "code",
      "source": [
        "import os\n",
        "images_path = \"tmp/Images\"\n",
        "\n",
        "for item in os.listdir(images_path):\n",
        "  os.rename(os.path.join(images_path, item), os.path.join(images_path, item[item.find(\"-\")+1:]))\n"
      ],
      "metadata": {
        "id": "rLfBE263PgLg"
      },
      "execution_count": 3,
      "outputs": []
    },
    {
      "cell_type": "code",
      "source": [
        "import os\n",
        "os.listdir(\"tmp/Images\")"
      ],
      "metadata": {
        "colab": {
          "base_uri": "https://localhost:8080/"
        },
        "id": "Vm6kqCrSPkqq",
        "outputId": "69b0bebf-9a8d-4790-e527-84ebc61f9b64"
      },
      "execution_count": 4,
      "outputs": [
        {
          "output_type": "execute_result",
          "data": {
            "text/plain": [
              "['Greater_Swiss_Mountain_dog',\n",
              " 'Japanese_spaniel',\n",
              " 'miniature_poodle',\n",
              " 'Newfoundland',\n",
              " 'otterhound',\n",
              " 'miniature_pinscher',\n",
              " 'Afghan_hound',\n",
              " 'Saluki',\n",
              " 'komondor',\n",
              " 'Samoyed',\n",
              " 'giant_schnauzer',\n",
              " 'bull_mastiff',\n",
              " 'EntleBucher',\n",
              " 'miniature_schnauzer',\n",
              " 'Border_terrier',\n",
              " 'Irish_terrier',\n",
              " 'Tibetan_mastiff',\n",
              " 'basset',\n",
              " 'toy_terrier',\n",
              " 'Welsh_springer_spaniel',\n",
              " 'standard_schnauzer',\n",
              " 'Brittany_spaniel',\n",
              " 'bloodhound',\n",
              " 'Appenzeller',\n",
              " 'Blenheim_spaniel',\n",
              " 'Scotch_terrier',\n",
              " 'Norfolk_terrier',\n",
              " 'Norwich_terrier',\n",
              " 'Bernese_mountain_dog',\n",
              " 'Chihuahua',\n",
              " 'silky_terrier',\n",
              " 'keeshond',\n",
              " 'German_short-haired_pointer',\n",
              " 'Pekinese',\n",
              " 'papillon',\n",
              " 'West_Highland_white_terrier',\n",
              " 'Tibetan_terrier',\n",
              " 'vizsla',\n",
              " 'bluetick',\n",
              " 'Australian_terrier',\n",
              " 'Airedale',\n",
              " 'Brabancon_griffon',\n",
              " 'toy_poodle',\n",
              " 'Boston_bull',\n",
              " 'Siberian_husky',\n",
              " 'Shih-Tzu',\n",
              " 'affenpinscher',\n",
              " 'whippet',\n",
              " 'Sealyham_terrier',\n",
              " 'German_shepherd',\n",
              " 'Mexican_hairless',\n",
              " 'briard',\n",
              " 'Norwegian_elkhound',\n",
              " 'Rhodesian_ridgeback',\n",
              " 'French_bulldog',\n",
              " 'Old_English_sheepdog',\n",
              " 'Leonberg',\n",
              " 'dhole',\n",
              " 'collie',\n",
              " 'Gordon_setter',\n",
              " 'malinois',\n",
              " 'golden_retriever',\n",
              " 'Yorkshire_terrier',\n",
              " 'Rottweiler',\n",
              " 'kuvasz',\n",
              " 'wire-haired_fox_terrier',\n",
              " 'Pembroke',\n",
              " 'Irish_water_spaniel',\n",
              " 'Irish_wolfhound',\n",
              " 'clumber',\n",
              " 'Great_Dane',\n",
              " 'basenji',\n",
              " 'Weimaraner',\n",
              " 'Pomeranian',\n",
              " 'Maltese_dog',\n",
              " 'African_hunting_dog',\n",
              " 'soft-coated_wheaten_terrier',\n",
              " 'flat-coated_retriever',\n",
              " 'Shetland_sheepdog',\n",
              " 'English_foxhound',\n",
              " 'Border_collie',\n",
              " 'English_springer',\n",
              " 'Lhasa',\n",
              " 'Lakeland_terrier',\n",
              " 'Bedlington_terrier',\n",
              " 'redbone',\n",
              " 'Scottish_deerhound',\n",
              " 'Labrador_retriever',\n",
              " 'schipperke',\n",
              " 'Irish_setter',\n",
              " 'groenendael',\n",
              " 'Italian_greyhound',\n",
              " 'standard_poodle',\n",
              " 'Great_Pyrenees',\n",
              " 'cairn',\n",
              " 'Saint_Bernard',\n",
              " 'malamute',\n",
              " 'English_setter',\n",
              " 'American_Staffordshire_terrier',\n",
              " 'Eskimo_dog',\n",
              " 'Bouvier_des_Flandres',\n",
              " 'cocker_spaniel',\n",
              " 'pug',\n",
              " 'curly-coated_retriever',\n",
              " 'Walker_hound',\n",
              " 'Ibizan_hound',\n",
              " 'Kerry_blue_terrier',\n",
              " 'black-and-tan_coonhound',\n",
              " 'boxer',\n",
              " 'Doberman',\n",
              " 'Dandie_Dinmont',\n",
              " 'Chesapeake_Bay_retriever',\n",
              " 'Cardigan',\n",
              " 'Staffordshire_bullterrier',\n",
              " 'dingo',\n",
              " 'kelpie',\n",
              " 'borzoi',\n",
              " 'Sussex_spaniel',\n",
              " 'chow',\n",
              " 'beagle']"
            ]
          },
          "metadata": {},
          "execution_count": 4
        }
      ]
    },
    {
      "cell_type": "code",
      "source": [
        "import tensorflow as tf\n",
        "import tensorflow.keras.layers as tfl\n",
        "from tensorflow.keras.initializers import glorot_uniform\n",
        "from tensorflow.keras.optimizers import Adam"
      ],
      "metadata": {
        "id": "wyieX3x3P7Ii"
      },
      "execution_count": 5,
      "outputs": []
    },
    {
      "cell_type": "code",
      "source": [
        "img_height = 224\n",
        "img_width = 224\n",
        "batch_size = 32\n",
        "validation_split = 0.2\n",
        "seed = 123\n",
        "num_epochs = 1\n",
        "data_dir = \"tmp/Images\""
      ],
      "metadata": {
        "id": "jUP-ksmURvXR"
      },
      "execution_count": 6,
      "outputs": []
    },
    {
      "cell_type": "code",
      "source": [
        "train_ds = tf.keras.utils.image_dataset_from_directory(\n",
        "    data_dir,\n",
        "    validation_split=validation_split,\n",
        "    subset=\"training\",\n",
        "    seed=seed,\n",
        "    image_size=(img_height, img_width),\n",
        "    batch_size=batch_size,\n",
        ")\n",
        "validation_ds = tf.keras.utils.image_dataset_from_directory(\n",
        "    data_dir,\n",
        "    validation_split=validation_split,\n",
        "    subset=\"validation\",\n",
        "    seed=seed,\n",
        "    image_size=(img_height, img_width),\n",
        "    batch_size=batch_size,\n",
        ")"
      ],
      "metadata": {
        "colab": {
          "base_uri": "https://localhost:8080/"
        },
        "id": "jwICmJ2ER-oN",
        "outputId": "2593061b-598f-4ad6-f7a4-988a0498f172"
      },
      "execution_count": 7,
      "outputs": [
        {
          "output_type": "stream",
          "name": "stdout",
          "text": [
            "Found 20580 files belonging to 120 classes.\n",
            "Using 16464 files for training.\n",
            "Found 20580 files belonging to 120 classes.\n",
            "Using 4116 files for validation.\n"
          ]
        }
      ]
    },
    {
      "cell_type": "code",
      "source": [
        "class_names = train_ds.class_names\n",
        "\n",
        "AUTOTUNE = tf.data.experimental.AUTOTUNE\n",
        "train_ds = train_ds.prefetch(buffer_size=AUTOTUNE)"
      ],
      "metadata": {
        "id": "Dxyctj8LSKYh"
      },
      "execution_count": 8,
      "outputs": []
    },
    {
      "cell_type": "code",
      "source": [
        "input_shape = (img_height, img_width, 3)\n",
        "base_model = tf.keras.applications.MobileNetV3Large(\n",
        "    input_shape=input_shape,\n",
        "    include_top=False,\n",
        "    weights=\"imagenet\",\n",
        ")\n",
        "\n",
        "data_augmentation = tf.keras.Sequential([\n",
        "    tfl.RandomFlip(\"horizontal\"),\n",
        "    tfl.RandomRotation(0.2),\n",
        "    tfl.RandomContrast(factor=(0, 0.2)),\n",
        "    tfl.RandomHeight(factor=(0, 0.3)),\n",
        "    tfl.RandomWidth(factor=(0, 0.3)),\n",
        "    tfl.RandomTranslation(\n",
        "        height_factor=0.3,\n",
        "        width_factor=0.3,\n",
        "        fill_mode=\"nearest\",\n",
        "    ),\n",
        "    tfl.RandomZoom(\n",
        "        height_factor=(0, 0.3),\n",
        "        width_factor=(0, 0.3),\n",
        "        fill_mode=\"nearest\",\n",
        "    ),\n",
        "])\n",
        "\n",
        "base_model.trainable = False\n",
        "inputs = tf.keras.Input(shape=input_shape)\n",
        "\n",
        "x_data = data_augmentation(inputs)\n",
        "# x_data = inputs\n",
        "# x_data = tf.keras.applications.mobilenet_v2.preprocess_input(x_data)\n",
        "\n",
        "x_data = base_model(x_data, training=False)\n",
        "x_data = tfl.GlobalAveragePooling2D()(x_data)\n",
        "# x_data = tfl.Dropout(0.2)(x_data)\n",
        "outputs = tfl.Dense(\n",
        "    len(class_names),\n",
        "    activation=\"softmax\",\n",
        "    kernel_initializer=glorot_uniform(seed=0)\n",
        ")(x_data)\n",
        "\n",
        "transfer_model = tf.keras.Model(inputs, outputs)"
      ],
      "metadata": {
        "id": "vK-PgZO6SU3J"
      },
      "execution_count": 18,
      "outputs": []
    },
    {
      "cell_type": "code",
      "source": [
        "base_learning_rate = 1 * 10**-3\n",
        "transfer_model.compile(\n",
        "    optimizer=tf.keras.optimizers.Adam(learning_rate=base_learning_rate),\n",
        "    loss=\"sparse_categorical_crossentropy\",\n",
        "    metrics=[\"accuracy\"],\n",
        ")"
      ],
      "metadata": {
        "id": "D46fl8kQSeQ-"
      },
      "execution_count": 19,
      "outputs": []
    },
    {
      "cell_type": "code",
      "source": [
        "num_epochs = 5\n",
        "history_top = transfer_model.fit(\n",
        "    train_ds,\n",
        "    validation_data=validation_ds,\n",
        "    epochs=num_epochs,\n",
        ")\n",
        "\n",
        "base_model = transfer_model.layers[2]\n",
        "base_model.trainable = True\n",
        "fine_tune_at = 190\n",
        "for layer in base_model.layers[:fine_tune_at]:\n",
        "    layer.trainable = False\n",
        "\n",
        "transfer_model.compile(\n",
        "    optimizer=Adam(learning_rate=base_learning_rate/10),\n",
        "    loss=\"sparse_categorical_crossentropy\",\n",
        "    metrics=[\"accuracy\"],\n",
        ")\n",
        "\n",
        "history_base = transfer_model.fit(\n",
        "    train_ds,\n",
        "    validation_data=validation_ds,\n",
        "    epochs=num_epochs * 2,\n",
        "    initial_epoch=history_top.epoch[-1],\n",
        ")"
      ],
      "metadata": {
        "colab": {
          "base_uri": "https://localhost:8080/"
        },
        "id": "N0L70D5-SseJ",
        "outputId": "a63aea54-e3d0-4d36-a486-04ce7601389f"
      },
      "execution_count": 20,
      "outputs": [
        {
          "output_type": "stream",
          "name": "stdout",
          "text": [
            "Epoch 1/5\n",
            "515/515 [==============================] - 46s 81ms/step - loss: 2.5272 - accuracy: 0.3884 - val_loss: 0.9457 - val_accuracy: 0.7123\n",
            "Epoch 2/5\n",
            "515/515 [==============================] - 42s 80ms/step - loss: 1.5907 - accuracy: 0.5678 - val_loss: 0.8120 - val_accuracy: 0.7483\n",
            "Epoch 3/5\n",
            "515/515 [==============================] - 41s 79ms/step - loss: 1.4013 - accuracy: 0.6057 - val_loss: 0.7766 - val_accuracy: 0.7607\n",
            "Epoch 4/5\n",
            "515/515 [==============================] - 42s 81ms/step - loss: 1.3014 - accuracy: 0.6296 - val_loss: 0.7824 - val_accuracy: 0.7646\n",
            "Epoch 5/5\n",
            "515/515 [==============================] - 41s 79ms/step - loss: 1.2355 - accuracy: 0.6471 - val_loss: 0.7741 - val_accuracy: 0.7736\n",
            "Epoch 5/10\n",
            "515/515 [==============================] - 54s 96ms/step - loss: 0.9789 - accuracy: 0.7129 - val_loss: 0.7575 - val_accuracy: 0.7726\n",
            "Epoch 6/10\n",
            "515/515 [==============================] - 50s 96ms/step - loss: 0.8385 - accuracy: 0.7512 - val_loss: 0.7884 - val_accuracy: 0.7663\n",
            "Epoch 7/10\n",
            "515/515 [==============================] - 50s 95ms/step - loss: 0.7610 - accuracy: 0.7700 - val_loss: 0.8098 - val_accuracy: 0.7709\n",
            "Epoch 8/10\n",
            "515/515 [==============================] - 50s 95ms/step - loss: 0.6725 - accuracy: 0.7946 - val_loss: 0.8332 - val_accuracy: 0.7636\n",
            "Epoch 9/10\n",
            "515/515 [==============================] - 50s 96ms/step - loss: 0.6082 - accuracy: 0.8135 - val_loss: 0.8531 - val_accuracy: 0.7607\n",
            "Epoch 10/10\n",
            "515/515 [==============================] - 49s 94ms/step - loss: 0.5571 - accuracy: 0.8259 - val_loss: 0.9066 - val_accuracy: 0.7536\n"
          ]
        }
      ]
    },
    {
      "cell_type": "code",
      "source": [
        "transfer_model.save(\"dog_breed_colab.h5\", save_format=\"h5\")\n"
      ],
      "metadata": {
        "id": "daklWJNHbPLF"
      },
      "execution_count": 21,
      "outputs": []
    },
    {
      "cell_type": "code",
      "source": [
        ""
      ],
      "metadata": {
        "id": "91x6-gacq016"
      },
      "execution_count": null,
      "outputs": []
    },
    {
      "cell_type": "markdown",
      "source": [
        "# New Section"
      ],
      "metadata": {
        "id": "_jnl6OY8rM15"
      }
    }
  ]
}