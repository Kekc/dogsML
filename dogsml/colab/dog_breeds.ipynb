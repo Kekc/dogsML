{
  "nbformat": 4,
  "nbformat_minor": 0,
  "metadata": {
    "colab": {
      "name": "dog_breeds.ipynb",
      "provenance": [],
      "collapsed_sections": [],
      "authorship_tag": "ABX9TyML7n5EB38hgSR9FjU/pdMy",
      "include_colab_link": true
    },
    "kernelspec": {
      "name": "python3",
      "display_name": "Python 3"
    },
    "language_info": {
      "name": "python"
    },
    "accelerator": "GPU"
  },
  "cells": [
    {
      "cell_type": "markdown",
      "metadata": {
        "id": "view-in-github",
        "colab_type": "text"
      },
      "source": [
        "<a href=\"https://colab.research.google.com/github/Kekc/dogsML/blob/main/dogsml/colab/dog_breeds.ipynb\" target=\"_parent\"><img src=\"https://colab.research.google.com/assets/colab-badge.svg\" alt=\"Open In Colab\"/></a>"
      ]
    },
    {
      "cell_type": "code",
      "execution_count": null,
      "metadata": {
        "colab": {
          "base_uri": "https://localhost:8080/"
        },
        "id": "XNhJPuO3Nz_K",
        "outputId": "e878e030-c71b-46de-86a4-027f70a3aa68"
      },
      "outputs": [
        {
          "output_type": "stream",
          "name": "stdout",
          "text": [
            "--2022-06-08 17:12:32--  http://vision.stanford.edu/aditya86/ImageNetDogs/images.tar\n",
            "Resolving vision.stanford.edu (vision.stanford.edu)... 171.64.68.10\n",
            "Connecting to vision.stanford.edu (vision.stanford.edu)|171.64.68.10|:80... connected.\n",
            "HTTP request sent, awaiting response... 200 OK\n",
            "Length: 793579520 (757M) [application/x-tar]\n",
            "Saving to: ‘images.tar’\n",
            "\n",
            "images.tar          100%[===================>] 756.82M  38.9MB/s    in 21s     \n",
            "\n",
            "2022-06-08 17:12:53 (36.6 MB/s) - ‘images.tar’ saved [793579520/793579520]\n",
            "\n"
          ]
        }
      ],
      "source": [
        "!wget http://vision.stanford.edu/aditya86/ImageNetDogs/images.tar"
      ]
    },
    {
      "cell_type": "code",
      "source": [
        "import tarfile\n",
        "tar_file = tarfile.open(\"./images.tar\", 'r')\n",
        "tar_file.extractall(\"tmp/\")\n",
        "tar_file.close()\n",
        "\n"
      ],
      "metadata": {
        "id": "mYk0QK0TN3Gr"
      },
      "execution_count": null,
      "outputs": []
    },
    {
      "cell_type": "code",
      "source": [
        "import os\n",
        "images_path = \"tmp/Images\"\n",
        "\n",
        "for item in os.listdir(images_path):\n",
        "  os.rename(os.path.join(images_path, item), os.path.join(images_path, item[item.find(\"-\")+1:]))\n"
      ],
      "metadata": {
        "id": "rLfBE263PgLg"
      },
      "execution_count": null,
      "outputs": []
    },
    {
      "cell_type": "code",
      "source": [
        "import os\n",
        "os.listdir(\"tmp/Images\")"
      ],
      "metadata": {
        "colab": {
          "base_uri": "https://localhost:8080/"
        },
        "id": "Vm6kqCrSPkqq",
        "outputId": "3f951b24-3437-48f4-af01-304d315009df"
      },
      "execution_count": null,
      "outputs": [
        {
          "output_type": "execute_result",
          "data": {
            "text/plain": [
              "['Pembroke',\n",
              " 'English_springer',\n",
              " 'Norwich_terrier',\n",
              " 'Lakeland_terrier',\n",
              " 'kelpie',\n",
              " 'Boston_bull',\n",
              " 'Rottweiler',\n",
              " 'Great_Dane',\n",
              " 'bloodhound',\n",
              " 'Scotch_terrier',\n",
              " 'bull_mastiff',\n",
              " 'miniature_poodle',\n",
              " 'Brabancon_griffon',\n",
              " 'briard',\n",
              " 'Tibetan_mastiff',\n",
              " 'papillon',\n",
              " 'basenji',\n",
              " 'Saint_Bernard',\n",
              " 'Maltese_dog',\n",
              " 'EntleBucher',\n",
              " 'Bedlington_terrier',\n",
              " 'Japanese_spaniel',\n",
              " 'groenendael',\n",
              " 'Irish_setter',\n",
              " 'dhole',\n",
              " 'Gordon_setter',\n",
              " 'otterhound',\n",
              " 'cocker_spaniel',\n",
              " 'komondor',\n",
              " 'standard_schnauzer',\n",
              " 'clumber',\n",
              " 'Bouvier_des_Flandres',\n",
              " 'Sealyham_terrier',\n",
              " 'Border_terrier',\n",
              " 'miniature_pinscher',\n",
              " 'silky_terrier',\n",
              " 'Australian_terrier',\n",
              " 'Siberian_husky',\n",
              " 'miniature_schnauzer',\n",
              " 'Walker_hound',\n",
              " 'affenpinscher',\n",
              " 'bluetick',\n",
              " 'Norwegian_elkhound',\n",
              " 'dingo',\n",
              " 'Norfolk_terrier',\n",
              " 'boxer',\n",
              " 'Cardigan',\n",
              " 'basset',\n",
              " 'German_shepherd',\n",
              " 'West_Highland_white_terrier',\n",
              " 'cairn',\n",
              " 'redbone',\n",
              " 'Staffordshire_bullterrier',\n",
              " 'giant_schnauzer',\n",
              " 'pug',\n",
              " 'Welsh_springer_spaniel',\n",
              " 'vizsla',\n",
              " 'Eskimo_dog',\n",
              " 'Afghan_hound',\n",
              " 'African_hunting_dog',\n",
              " 'American_Staffordshire_terrier',\n",
              " 'Great_Pyrenees',\n",
              " 'Shih-Tzu',\n",
              " 'Irish_wolfhound',\n",
              " 'standard_poodle',\n",
              " 'black-and-tan_coonhound',\n",
              " 'curly-coated_retriever',\n",
              " 'Ibizan_hound',\n",
              " 'keeshond',\n",
              " 'Leonberg',\n",
              " 'Chihuahua',\n",
              " 'Appenzeller',\n",
              " 'French_bulldog',\n",
              " 'Shetland_sheepdog',\n",
              " 'Weimaraner',\n",
              " 'English_foxhound',\n",
              " 'borzoi',\n",
              " 'beagle',\n",
              " 'Mexican_hairless',\n",
              " 'Newfoundland',\n",
              " 'Border_collie',\n",
              " 'Kerry_blue_terrier',\n",
              " 'toy_terrier',\n",
              " 'Italian_greyhound',\n",
              " 'wire-haired_fox_terrier',\n",
              " 'English_setter',\n",
              " 'Sussex_spaniel',\n",
              " 'Airedale',\n",
              " 'Lhasa',\n",
              " 'Doberman',\n",
              " 'Dandie_Dinmont',\n",
              " 'Samoyed',\n",
              " 'Greater_Swiss_Mountain_dog',\n",
              " 'malinois',\n",
              " 'malamute',\n",
              " 'schipperke',\n",
              " 'collie',\n",
              " 'Saluki',\n",
              " 'Brittany_spaniel',\n",
              " 'chow',\n",
              " 'Labrador_retriever',\n",
              " 'Rhodesian_ridgeback',\n",
              " 'Bernese_mountain_dog',\n",
              " 'kuvasz',\n",
              " 'Chesapeake_Bay_retriever',\n",
              " 'Irish_water_spaniel',\n",
              " 'whippet',\n",
              " 'soft-coated_wheaten_terrier',\n",
              " 'Pekinese',\n",
              " 'Tibetan_terrier',\n",
              " 'Old_English_sheepdog',\n",
              " 'Blenheim_spaniel',\n",
              " 'toy_poodle',\n",
              " 'Yorkshire_terrier',\n",
              " 'Pomeranian',\n",
              " 'German_short-haired_pointer',\n",
              " 'Scottish_deerhound',\n",
              " 'flat-coated_retriever',\n",
              " 'golden_retriever',\n",
              " 'Irish_terrier']"
            ]
          },
          "metadata": {},
          "execution_count": 8
        }
      ]
    },
    {
      "cell_type": "code",
      "source": [
        "import tensorflow as tf\n",
        "import tensorflow.keras.layers as tfl\n",
        "from tensorflow.keras.initializers import glorot_uniform\n",
        "from tensorflow.keras.optimizers import Adam"
      ],
      "metadata": {
        "id": "wyieX3x3P7Ii"
      },
      "execution_count": null,
      "outputs": []
    },
    {
      "cell_type": "code",
      "source": [
        "img_height = 224\n",
        "img_width = 224\n",
        "batch_size = 32\n",
        "validation_split = 0.2\n",
        "seed = 123\n",
        "num_epochs = 1\n",
        "data_dir = \"tmp/Images\""
      ],
      "metadata": {
        "id": "jUP-ksmURvXR"
      },
      "execution_count": null,
      "outputs": []
    },
    {
      "cell_type": "code",
      "source": [
        "train_ds = tf.keras.utils.image_dataset_from_directory(\n",
        "    data_dir,\n",
        "    validation_split=validation_split,\n",
        "    subset=\"training\",\n",
        "    seed=seed,\n",
        "    image_size=(img_height, img_width),\n",
        "    batch_size=batch_size,\n",
        ")\n",
        "validation_ds = tf.keras.utils.image_dataset_from_directory(\n",
        "    data_dir,\n",
        "    validation_split=validation_split,\n",
        "    subset=\"validation\",\n",
        "    seed=seed,\n",
        "    image_size=(img_height, img_width),\n",
        "    batch_size=batch_size,\n",
        ")"
      ],
      "metadata": {
        "colab": {
          "base_uri": "https://localhost:8080/"
        },
        "id": "jwICmJ2ER-oN",
        "outputId": "e06052f2-74ef-4999-8da8-8041f70964f0"
      },
      "execution_count": null,
      "outputs": [
        {
          "output_type": "stream",
          "name": "stdout",
          "text": [
            "Found 20580 files belonging to 120 classes.\n",
            "Using 16464 files for training.\n",
            "Found 20580 files belonging to 120 classes.\n",
            "Using 4116 files for validation.\n"
          ]
        }
      ]
    },
    {
      "cell_type": "code",
      "source": [
        "class_names = train_ds.class_names\n",
        "\n",
        "AUTOTUNE = tf.data.experimental.AUTOTUNE\n",
        "train_ds = train_ds.prefetch(buffer_size=AUTOTUNE)"
      ],
      "metadata": {
        "id": "Dxyctj8LSKYh"
      },
      "execution_count": null,
      "outputs": []
    },
    {
      "cell_type": "code",
      "source": [
        "input_shape = (img_height, img_width, 3)\n",
        "base_model = tf.keras.applications.MobileNetV3Large(\n",
        "    input_shape=input_shape,\n",
        "    include_top=False,\n",
        "    weights=\"imagenet\",\n",
        ")\n",
        "\n",
        "data_augmentation = tf.keras.Sequential([\n",
        "    tfl.RandomFlip(\"horizontal\"),\n",
        "    tfl.RandomRotation(0.2),\n",
        "    # tfl.RandomContrast(factor=0.2),\n",
        "    # tfl.RandomHeight(factor=0.3),\n",
        "    # tfl.RandomWidth(factor=0.3),\n",
        "    # tfl.RandomTranslation(\n",
        "    #     height_factor=0.3,\n",
        "    #     width_factor=0.3,\n",
        "    #     fill_mode=\"nearest\",\n",
        "    # ),\n",
        "    tfl.RandomZoom(\n",
        "        height_factor=(0, 0.3),\n",
        "        width_factor=(0, 0.3),\n",
        "        fill_mode=\"nearest\",\n",
        "    ),\n",
        "])\n",
        "\n",
        "base_model.trainable = False\n",
        "inputs = tf.keras.Input(shape=input_shape)\n",
        "\n",
        "x_data = data_augmentation(inputs)\n",
        "# x_data = inputs\n",
        "# x_data = tf.keras.applications.mobilenet_v2.preprocess_input(x_data)\n",
        "\n",
        "x_data = base_model(x_data, training=False)\n",
        "x_data = tfl.GlobalAveragePooling2D()(x_data)\n",
        "# x_data = tfl.Dropout(0.2)(x_data)\n",
        "outputs = tfl.Dense(\n",
        "    len(class_names),\n",
        "    activation=\"softmax\",\n",
        "    kernel_initializer=glorot_uniform(seed=0)\n",
        ")(x_data)\n",
        "\n",
        "transfer_model = tf.keras.Model(inputs, outputs)"
      ],
      "metadata": {
        "id": "vK-PgZO6SU3J"
      },
      "execution_count": null,
      "outputs": []
    },
    {
      "cell_type": "code",
      "source": [
        "base_learning_rate = 1 * 10**-3\n",
        "transfer_model.compile(\n",
        "    optimizer=tf.keras.optimizers.Adam(learning_rate=base_learning_rate),\n",
        "    loss=\"sparse_categorical_crossentropy\",\n",
        "    metrics=[\"accuracy\"],\n",
        ")"
      ],
      "metadata": {
        "id": "D46fl8kQSeQ-"
      },
      "execution_count": null,
      "outputs": []
    },
    {
      "cell_type": "code",
      "source": [
        "num_epochs = 10\n",
        "history_top = transfer_model.fit(\n",
        "    train_ds,\n",
        "    validation_data=validation_ds,\n",
        "    epochs=num_epochs,\n",
        ")\n",
        "\n",
        "base_model = transfer_model.layers[2]\n",
        "base_model.trainable = True\n",
        "fine_tune_at = 200\n",
        "for layer in base_model.layers[:fine_tune_at]:\n",
        "    layer.trainable = False\n",
        "\n",
        "transfer_model.compile(\n",
        "    optimizer=Adam(learning_rate=10**-4),\n",
        "    loss=\"sparse_categorical_crossentropy\",\n",
        "    metrics=[\"accuracy\"],\n",
        ")\n",
        "\n",
        "history_base = transfer_model.fit(\n",
        "    train_ds,\n",
        "    validation_data=validation_ds,\n",
        "    epochs=num_epochs * 2,\n",
        "    # initial_epoch=history_top.epoch[-1],\n",
        ")"
      ],
      "metadata": {
        "colab": {
          "base_uri": "https://localhost:8080/"
        },
        "id": "N0L70D5-SseJ",
        "outputId": "f30b7555-3870-43cf-de0c-f0a6ff2ddcc9"
      },
      "execution_count": null,
      "outputs": [
        {
          "output_type": "stream",
          "name": "stdout",
          "text": [
            "Epoch 1/10\n",
            "515/515 [==============================] - 42s 75ms/step - loss: 2.2380 - accuracy: 0.4448 - val_loss: 0.8896 - val_accuracy: 0.7308\n",
            "Epoch 2/10\n",
            "515/515 [==============================] - 38s 74ms/step - loss: 1.3120 - accuracy: 0.6286 - val_loss: 0.7496 - val_accuracy: 0.7699\n",
            "Epoch 3/10\n",
            "515/515 [==============================] - 38s 74ms/step - loss: 1.1261 - accuracy: 0.6806 - val_loss: 0.7451 - val_accuracy: 0.7685\n",
            "Epoch 4/10\n",
            "515/515 [==============================] - 38s 73ms/step - loss: 1.0123 - accuracy: 0.7048 - val_loss: 0.7292 - val_accuracy: 0.7809\n",
            "Epoch 5/10\n",
            "515/515 [==============================] - 38s 74ms/step - loss: 0.9214 - accuracy: 0.7293 - val_loss: 0.7244 - val_accuracy: 0.7823\n",
            "Epoch 6/10\n",
            "515/515 [==============================] - 39s 76ms/step - loss: 0.8704 - accuracy: 0.7432 - val_loss: 0.7348 - val_accuracy: 0.7782\n",
            "Epoch 7/10\n",
            "515/515 [==============================] - 38s 73ms/step - loss: 0.8126 - accuracy: 0.7546 - val_loss: 0.7305 - val_accuracy: 0.7818\n",
            "Epoch 8/10\n",
            "515/515 [==============================] - 38s 73ms/step - loss: 0.7577 - accuracy: 0.7690 - val_loss: 0.7327 - val_accuracy: 0.7835\n",
            "Epoch 9/10\n",
            "515/515 [==============================] - 38s 74ms/step - loss: 0.7239 - accuracy: 0.7802 - val_loss: 0.7610 - val_accuracy: 0.7784\n",
            "Epoch 10/10\n",
            "515/515 [==============================] - 38s 73ms/step - loss: 0.6942 - accuracy: 0.7841 - val_loss: 0.7531 - val_accuracy: 0.7816\n",
            "Epoch 1/20\n",
            "515/515 [==============================] - 45s 80ms/step - loss: 0.5668 - accuracy: 0.8237 - val_loss: 0.7903 - val_accuracy: 0.7794\n",
            "Epoch 2/20\n",
            "515/515 [==============================] - 42s 80ms/step - loss: 0.4412 - accuracy: 0.8636 - val_loss: 0.8462 - val_accuracy: 0.7697\n",
            "Epoch 3/20\n",
            "515/515 [==============================] - 41s 79ms/step - loss: 0.3672 - accuracy: 0.8849 - val_loss: 0.8745 - val_accuracy: 0.7660\n",
            "Epoch 4/20\n",
            "515/515 [==============================] - 41s 79ms/step - loss: 0.3083 - accuracy: 0.9029 - val_loss: 0.9239 - val_accuracy: 0.7636\n",
            "Epoch 5/20\n",
            "515/515 [==============================] - 41s 79ms/step - loss: 0.2548 - accuracy: 0.9203 - val_loss: 0.9771 - val_accuracy: 0.7575\n",
            "Epoch 6/20\n",
            "515/515 [==============================] - 41s 79ms/step - loss: 0.2292 - accuracy: 0.9272 - val_loss: 1.0248 - val_accuracy: 0.7561\n",
            "Epoch 7/20\n",
            "515/515 [==============================] - 41s 79ms/step - loss: 0.1869 - accuracy: 0.9407 - val_loss: 1.0879 - val_accuracy: 0.7495\n",
            "Epoch 8/20\n",
            "515/515 [==============================] - 41s 78ms/step - loss: 0.1666 - accuracy: 0.9475 - val_loss: 1.1067 - val_accuracy: 0.7466\n",
            "Epoch 9/20\n",
            "515/515 [==============================] - 41s 78ms/step - loss: 0.1428 - accuracy: 0.9553 - val_loss: 1.1268 - val_accuracy: 0.7575\n",
            "Epoch 10/20\n",
            "515/515 [==============================] - 41s 78ms/step - loss: 0.1299 - accuracy: 0.9602 - val_loss: 1.1667 - val_accuracy: 0.7405\n",
            "Epoch 11/20\n",
            "515/515 [==============================] - 41s 78ms/step - loss: 0.1153 - accuracy: 0.9633 - val_loss: 1.2626 - val_accuracy: 0.7444\n",
            "Epoch 12/20\n",
            "515/515 [==============================] - 41s 79ms/step - loss: 0.1117 - accuracy: 0.9662 - val_loss: 1.2010 - val_accuracy: 0.7481\n",
            "Epoch 13/20\n",
            "515/515 [==============================] - 42s 81ms/step - loss: 0.0951 - accuracy: 0.9710 - val_loss: 1.2422 - val_accuracy: 0.7532\n",
            "Epoch 14/20\n",
            "515/515 [==============================] - 41s 80ms/step - loss: 0.0869 - accuracy: 0.9734 - val_loss: 1.2813 - val_accuracy: 0.7495\n",
            "Epoch 15/20\n",
            "515/515 [==============================] - 41s 80ms/step - loss: 0.0820 - accuracy: 0.9752 - val_loss: 1.2805 - val_accuracy: 0.7427\n",
            "Epoch 16/20\n",
            "515/515 [==============================] - 41s 79ms/step - loss: 0.0803 - accuracy: 0.9750 - val_loss: 1.2866 - val_accuracy: 0.7396\n",
            "Epoch 17/20\n",
            "515/515 [==============================] - 42s 80ms/step - loss: 0.0772 - accuracy: 0.9763 - val_loss: 1.3740 - val_accuracy: 0.7420\n",
            "Epoch 18/20\n",
            "515/515 [==============================] - 41s 79ms/step - loss: 0.0693 - accuracy: 0.9784 - val_loss: 1.3406 - val_accuracy: 0.7381\n",
            "Epoch 19/20\n",
            "515/515 [==============================] - 41s 79ms/step - loss: 0.0615 - accuracy: 0.9815 - val_loss: 1.4001 - val_accuracy: 0.7354\n",
            "Epoch 20/20\n",
            "515/515 [==============================] - 41s 79ms/step - loss: 0.0652 - accuracy: 0.9800 - val_loss: 1.3862 - val_accuracy: 0.7386\n"
          ]
        }
      ]
    },
    {
      "cell_type": "code",
      "source": [
        ""
      ],
      "metadata": {
        "id": "daklWJNHbPLF"
      },
      "execution_count": null,
      "outputs": []
    }
  ]
}